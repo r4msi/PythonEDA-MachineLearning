{
 "cells": [
  {
   "cell_type": "markdown",
   "metadata": {},
   "source": [
    "# 1. Functions EDA/Machine Learning"
   ]
  },
  {
   "cell_type": "markdown",
   "metadata": {},
   "source": [
    "## 1.1. Categorical Data"
   ]
  },
  {
   "cell_type": "code",
   "execution_count": 797,
   "metadata": {},
   "outputs": [],
   "source": [
    "def uniqueCategories(data):\n",
    "    for i in list(data.columns):\n",
    "        if data[i].dtype == 'O':\n",
    "            print(data[i].unique())\n",
    "\n",
    "def categoriesNames(data):\n",
    "    for i in list(data.columns):\n",
    "        if data[i].dtype == 'O':\n",
    "            print(data[i].name)\n",
    "            \n",
    "def uniqueValues(data):\n",
    "    for i in list(data.columns):\n",
    "        print(f\"{data[i].name}, {data[i].dtype}, {len(data[i].unique())}\")"
   ]
  },
  {
   "cell_type": "markdown",
   "metadata": {},
   "source": [
    "## 1.2. Outliers"
   ]
  },
  {
   "cell_type": "code",
   "execution_count": 821,
   "metadata": {},
   "outputs": [],
   "source": [
    "from scipy.stats import stats\n",
    "import numpy as np\n",
    "\n",
    "def outliers(data, action):\n",
    "    \n",
    "    # action = [\"show\",\"nan\",\"quantile\"]\n",
    "    \n",
    "    qnt = np.quantile(data, q=[0.25,0.75])\n",
    "    iqr = 3 * stats.iqr(data, nan_policy=\"omit\")\n",
    "    qnt_1 = qnt[0] - iqr\n",
    "    qnt_3 = qnt[1] + iqr\n",
    "    \n",
    "    if action == \"show\":\n",
    "             \n",
    "        print(data.iloc[np.where((data>qnt_3) | (data<qnt_1) )])\n",
    "        \n",
    "    elif action == \"nan\":\n",
    "        data = np.where((data>qnt_3), np.nan, data)\n",
    "        data = np.where((data)<qnt_1, np.nan, data)\n",
    "        return data\n",
    "             \n",
    "    elif action == \"quantile\":\n",
    "        data = np.where((data>qnt_3), np.quantile(data, q=0.75)*1.5, data)\n",
    "        data = np.where((data<qnt_1), np.quantile(data, q=0.25)/1.5, data)\n",
    "        return data \n",
    "    "
   ]
  },
  {
   "cell_type": "markdown",
   "metadata": {},
   "source": [
    "## 1.3 Cramer V"
   ]
  },
  {
   "cell_type": "code",
   "execution_count": 25,
   "metadata": {},
   "outputs": [],
   "source": [
    "from scipy.stats import chi2_contingency\n",
    "import seaborn as sns\n",
    "import matplotlib.pyplot as plt\n",
    "\n",
    "def cramers_v(x, y):\n",
    "    \n",
    "    if x.dtypes != \"O\":\n",
    "        x = pd.cut(x, bins=5)\n",
    "        \n",
    "    if y.dtypes != \"O\":\n",
    "        y = pd.cut(y, bins=5)\n",
    "    \n",
    "    confusion_matrix = pd.crosstab(x,y)\n",
    "    chi2 = chi2_contingency(confusion_matrix)[0]\n",
    "    n = confusion_matrix.sum().sum()\n",
    "    phi2 = chi2/n\n",
    "    r,k = confusion_matrix.shape\n",
    "    phi2corr = max(0, phi2-((k-1)*(r-1))/(n-1))\n",
    "    rcorr = r-((r-1)**2)/(n-1)\n",
    "    kcorr = k-((k-1)**2)/(n-1)\n",
    "    \n",
    "    return np.sqrt(phi2corr/min((kcorr-1),(rcorr-1)))\n"
   ]
  },
  {
   "cell_type": "code",
   "execution_count": 107,
   "metadata": {},
   "outputs": [],
   "source": [
    "def cramers_v_graphic(data, target, graph=True):\n",
    "    \n",
    "    vc = {}\n",
    "    \n",
    "    for i in range(len(data.columns)):\n",
    "        vc[data.iloc[:,i].name] = cramers_v(data.iloc[:,i], target)\n",
    "        \n",
    "    vc = pd.DataFrame.from_dict(vc,orient=\"index\",columns=[ \"CramerV\"]).sort_values(by=\"CramerV\", ascending=False)\n",
    "    \n",
    "    if graph == True:\n",
    "        return(sns.heatmap(vc.sort_values(by=\"CramerV\", ascending=False),annot=True,fmt='.2f'))\n",
    "    else:\n",
    "        return(vc)\n",
    "        "
   ]
  },
  {
   "cell_type": "markdown",
   "metadata": {},
   "source": [
    "# 2. Useful code"
   ]
  },
  {
   "cell_type": "markdown",
   "metadata": {},
   "source": [
    "## 2.1 Imputation (MICE)"
   ]
  },
  {
   "cell_type": "code",
   "execution_count": 7,
   "metadata": {},
   "outputs": [],
   "source": [
    "from sklearn.experimental import enable_iterative_imputer\n",
    "from sklearn.impute import IterativeImputer\n",
    "from sklearn.ensemble import ExtraTreesRegressor"
   ]
  },
  {
   "cell_type": "code",
   "execution_count": 8,
   "metadata": {},
   "outputs": [],
   "source": [
    "from sklearn.ensemble import ExtraTreesRegressor # Random Forest\n",
    "\n",
    "# Creating the model. Yoy may change n_estimators depending on the number of variables.\n",
    "\n",
    "imputer = IterativeImputer(\n",
    "    estimator=ExtraTreesRegressor(n_estimators=3, random_state=0),\n",
    "    max_iter=10,\n",
    "    random_state=0\n",
    ")\n"
   ]
  },
  {
   "cell_type": "markdown",
   "metadata": {},
   "source": [
    "    Train the model:"
   ]
  },
  {
   "cell_type": "code",
   "execution_count": null,
   "metadata": {},
   "outputs": [],
   "source": [
    "imputer.fit(data[[\"NaNvar\",\"X1\", \"X2\", \"X3\"]])"
   ]
  },
  {
   "cell_type": "markdown",
   "metadata": {},
   "source": [
    "    Predict (imputer.transform). The output will be a numpy array so change it to a dataframe."
   ]
  },
  {
   "cell_type": "code",
   "execution_count": 9,
   "metadata": {},
   "outputs": [],
   "source": [
    "var_imputed = imputer.transform(data[[\"NaNvar\",\"X1\", \"X2\", \"X3\"]])\n",
    "var_imputed = pd.DataFrame(data, columns=[\"NaNvar\",\"X1\", \"X2\", \"X3\"])"
   ]
  },
  {
   "cell_type": "markdown",
   "metadata": {},
   "source": [
    "    Contrast the results, here an example of RandomForest imputation. Titanic data from Kaggle."
   ]
  },
  {
   "cell_type": "code",
   "execution_count": 795,
   "metadata": {},
   "outputs": [
    {
     "data": {
      "text/plain": [
       "<matplotlib.legend.Legend at 0x1f1452f7cc8>"
      ]
     },
     "execution_count": 795,
     "metadata": {},
     "output_type": "execute_result"
    },
    {
     "data": {
      "image/png": "[encoded data removed]",
      "text/plain": [
       "<Figure size 432x288 with 1 Axes>"
      ]
     },
     "metadata": {
      "needs_background": "light"
     },
     "output_type": "display_data"
    }
   ],
   "source": [
    "fig = plt.figure()\n",
    "ax = fig.add_subplot(111)\n",
    "age_imputed[\"Age\"].plot(kind=\"kde\", color=\"green\")\n",
    "titanic[\"Age\"].dropna().plot(kind=\"kde\", color=\"red\")\n",
    "lines, labels = ax.get_legend_handles_labels()\n",
    "labels =[\"Random Forest\",\"Original\"]\n",
    "ax.legend(lines, labels, loc='best')"
   ]
  }
 ],
 "metadata": {
  "kernelspec": {
   "display_name": "Python 3",
   "language": "python",
   "name": "python3"
  },
  "language_info": {
   "codemirror_mode": {
    "name": "ipython",
    "version": 3
   },
   "file_extension": ".py",
   "mimetype": "text/x-python",
   "name": "python",
   "nbconvert_exporter": "python",
   "pygments_lexer": "ipython3",
   "version": "3.7.4"
  }
 },
 "nbformat": 4,
 "nbformat_minor": 4
}
